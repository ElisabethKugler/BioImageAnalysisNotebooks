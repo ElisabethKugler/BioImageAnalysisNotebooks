{
 "cells": [
  {
   "cell_type": "markdown",
   "id": "fc47d3ab-e3cd-4ac7-8f15-1dc27db9cb10",
   "metadata": {},
   "source": [
    "# Scientific animations\n",
    "For visualizing timelapse data, the [microfilm library](https://github.com/guiwitz/microfilm) offers easy to use functions.\n",
    "\n",
    "To get started, install microfilm using pip:\n",
    "```\n",
    "pip install microfilm\n",
    "```"
   ]
  },
  {
   "cell_type": "code",
   "execution_count": 1,
   "id": "237c4677-8315-4b13-880b-7fd08983f16b",
   "metadata": {},
   "outputs": [],
   "source": [
    "import numpy as np\n",
    "from skimage.io import imread\n",
    "from microfilm.microanim import Microanim"
   ]
  },
  {
   "cell_type": "markdown",
   "id": "63522e6f-b1d8-4ff3-88dc-bef090351191",
   "metadata": {},
   "source": [
    "First, we load a timelapse dataset. This example shows a cropped projection of some cells in a Drosophila melanogaster embryo undergoing cell division; mitotic waves."
   ]
  },
  {
   "cell_type": "code",
   "execution_count": 2,
   "id": "5af17561-50c7-433e-b4c3-89fc1164ac50",
   "metadata": {},
   "outputs": [
    {
     "data": {
      "text/plain": [
       "(100, 235, 389)"
      ]
     },
     "execution_count": 2,
     "metadata": {},
     "output_type": "execute_result"
    }
   ],
   "source": [
    "image = imread('../../data/CalibZAPWfixed_000154_max.tif')\n",
    "image.shape"
   ]
  },
  {
   "cell_type": "code",
   "execution_count": 3,
   "id": "9f80b392-aa7b-4a4f-be33-21a5fdea8f78",
   "metadata": {},
   "outputs": [
    {
     "data": {
      "text/plain": [
       "(1, 100, 235, 389)"
      ]
     },
     "execution_count": 3,
     "metadata": {},
     "output_type": "execute_result"
    }
   ],
   "source": [
    "m_image = np.asarray([image])\n",
    "m_image.shape"
   ]
  },
  {
   "cell_type": "code",
   "execution_count": 5,
   "id": "4ea5893d-0def-4ff0-ba8b-9a5e6e93d730",
   "metadata": {},
   "outputs": [
    {
     "ename": "ValueError",
     "evalue": "The array needs 3 dimensions, yours has 4",
     "output_type": "error",
     "traceback": [
      "\u001b[1;31m---------------------------------------------------------------------------\u001b[0m",
      "\u001b[1;31mValueError\u001b[0m                                Traceback (most recent call last)",
      "Input \u001b[1;32mIn [5]\u001b[0m, in \u001b[0;36m<module>\u001b[1;34m\u001b[0m\n\u001b[1;32m----> 1\u001b[0m microanim \u001b[38;5;241m=\u001b[39m \u001b[43mMicroanim\u001b[49m\u001b[43m(\u001b[49m\u001b[43mdata\u001b[49m\u001b[38;5;241;43m=\u001b[39;49m\u001b[43mm_image\u001b[49m\u001b[43m,\u001b[49m\u001b[43m \u001b[49m\n\u001b[0;32m      2\u001b[0m \u001b[43m                      \u001b[49m\u001b[43mcmaps\u001b[49m\u001b[38;5;241;43m=\u001b[39;49m\u001b[38;5;124;43m'\u001b[39;49m\u001b[38;5;124;43mpure_red\u001b[39;49m\u001b[38;5;124;43m'\u001b[39;49m\u001b[43m,\u001b[49m\u001b[43m \u001b[49m\n\u001b[0;32m      3\u001b[0m \u001b[43m                      \u001b[49m\u001b[43mfig_scaling\u001b[49m\u001b[38;5;241;43m=\u001b[39;49m\u001b[38;5;241;43m1\u001b[39;49m\u001b[43m,\u001b[49m\n\u001b[0;32m      4\u001b[0m \u001b[43m                      \u001b[49m\u001b[43munit\u001b[49m\u001b[38;5;241;43m=\u001b[39;49m\u001b[38;5;124;43m'\u001b[39;49m\u001b[38;5;124;43mum\u001b[39;49m\u001b[38;5;124;43m'\u001b[39;49m\u001b[43m,\u001b[49m\u001b[43m \u001b[49m\n\u001b[0;32m      5\u001b[0m \u001b[43m                      \u001b[49m\u001b[43mscalebar_size_in_units\u001b[49m\u001b[38;5;241;43m=\u001b[39;49m\u001b[38;5;241;43m3\u001b[39;49m\u001b[43m,\u001b[49m\u001b[43m \u001b[49m\n\u001b[0;32m      6\u001b[0m \u001b[43m                      \u001b[49m\u001b[43mscalebar_unit_per_pix\u001b[49m\u001b[38;5;241;43m=\u001b[39;49m\u001b[38;5;241;43m0.52\u001b[39;49m\u001b[43m,\u001b[49m\n\u001b[0;32m      7\u001b[0m \u001b[43m                      \u001b[49m\u001b[43mscalebar_thickness\u001b[49m\u001b[38;5;241;43m=\u001b[39;49m\u001b[38;5;241;43m0.02\u001b[39;49m\u001b[43m,\u001b[49m\u001b[43m \u001b[49m\n\u001b[0;32m      8\u001b[0m \u001b[43m                      \u001b[49m\u001b[43mscalebar_font_size\u001b[49m\u001b[38;5;241;43m=\u001b[39;49m\u001b[38;5;241;43m20\u001b[39;49m\u001b[43m)\u001b[49m\n\u001b[0;32m     10\u001b[0m \u001b[38;5;66;03m# microanim.add_time_stamp('time', 10, location='lower left', timestamp_size=20)\u001b[39;00m\n\u001b[0;32m     12\u001b[0m microanim\u001b[38;5;241m.\u001b[39msave_movie(\u001b[38;5;124m'\u001b[39m\u001b[38;5;124m../../temp/drosophila_movie.gif\u001b[39m\u001b[38;5;124m'\u001b[39m, fps\u001b[38;5;241m=\u001b[39m\u001b[38;5;241m15\u001b[39m)\n",
      "File \u001b[1;32mc:\\structure\\code\\microfilm\\microfilm\\microanim.py:48\u001b[0m, in \u001b[0;36mMicroanim.__init__\u001b[1;34m(self, data, channels, cmaps, flip_map, rescale_type, limits, num_colors, proj_type, alpha, volume_proj, channel_names, channel_label_show, channel_label_type, channel_label_size, scalebar_thickness, scalebar_unit_per_pix, scalebar_size_in_units, unit, scalebar_location, scalebar_color, scalebar_font_size, scalebar_kwargs, scalebar_font_properties, ax, fig_scaling, dpi, label_text, label_location, label_color, label_font_size, label_kwargs, cmap_objects, show_colorbar, show_plot)\u001b[0m\n\u001b[0;32m     46\u001b[0m     target_dim\u001b[38;5;241m=\u001b[39m\u001b[38;5;241m5\u001b[39m \u001b[38;5;28;01mif\u001b[39;00m (volume_proj \u001b[38;5;129;01mis\u001b[39;00m \u001b[38;5;129;01mnot\u001b[39;00m \u001b[38;5;28;01mNone\u001b[39;00m) \u001b[38;5;28;01melse\u001b[39;00m \u001b[38;5;241m3\u001b[39m\n\u001b[0;32m     47\u001b[0m     \u001b[38;5;28;01mif\u001b[39;00m data\u001b[38;5;241m.\u001b[39mndim \u001b[38;5;241m!=\u001b[39m target_dim:\n\u001b[1;32m---> 48\u001b[0m         \u001b[38;5;28;01mraise\u001b[39;00m \u001b[38;5;167;01mValueError\u001b[39;00m(\u001b[38;5;124mf\u001b[39m\u001b[38;5;124m\"\u001b[39m\u001b[38;5;124mThe array needs \u001b[39m\u001b[38;5;132;01m{\u001b[39;00mtarget_dim\u001b[38;5;132;01m}\u001b[39;00m\u001b[38;5;124m dimensions, yours has \u001b[39m\u001b[38;5;132;01m{\u001b[39;00mdata\u001b[38;5;241m.\u001b[39mndim\u001b[38;5;132;01m}\u001b[39;00m\u001b[38;5;124m\"\u001b[39m)\n\u001b[0;32m     49\u001b[0m     data \u001b[38;5;241m=\u001b[39m Nparray(nparray\u001b[38;5;241m=\u001b[39mdata)\n\u001b[0;32m     51\u001b[0m \u001b[38;5;28mself\u001b[39m\u001b[38;5;241m.\u001b[39mdata \u001b[38;5;241m=\u001b[39m data\n",
      "\u001b[1;31mValueError\u001b[0m: The array needs 3 dimensions, yours has 4"
     ]
    }
   ],
   "source": [
    "microanim = Microanim(data=m_image, \n",
    "                      cmaps='pure_red', \n",
    "                      fig_scaling=1,\n",
    "                      unit='um', \n",
    "                      scalebar_size_in_units=3, \n",
    "                      scalebar_unit_per_pix=0.52,\n",
    "                      scalebar_thickness=0.02, \n",
    "                      scalebar_font_size=20)\n",
    "\n",
    "# microanim.add_time_stamp('time', 10, location='lower left', timestamp_size=20)\n",
    "\n",
    "microanim.save_movie('../../temp/drosophila_movie.gif', fps=15)"
   ]
  },
  {
   "cell_type": "code",
   "execution_count": null,
   "id": "9d369645-e5a6-4852-9d75-e40da9cb30b3",
   "metadata": {},
   "outputs": [],
   "source": []
  }
 ],
 "metadata": {
  "kernelspec": {
   "display_name": "Python 3 (ipykernel)",
   "language": "python",
   "name": "python3"
  },
  "language_info": {
   "codemirror_mode": {
    "name": "ipython",
    "version": 3
   },
   "file_extension": ".py",
   "mimetype": "text/x-python",
   "name": "python",
   "nbconvert_exporter": "python",
   "pygments_lexer": "ipython3",
   "version": "3.9.10"
  }
 },
 "nbformat": 4,
 "nbformat_minor": 5
}
