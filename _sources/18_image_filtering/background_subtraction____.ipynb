{
 "cells": [
  {
   "cell_type": "markdown",
   "metadata": {},
   "source": [
    "# Background subtraction\n",
    "This notebook compares different implementations of a background subtraction method.\n",
    "\n",
    "**Note:** benchmarking results vary heavily depending on image size, kernel size, used operations, parameters and used hardware. Use this notebook to adapt it to your use-case scenario and benchmark on your target hardware. If you have different scenarios or use-cases, you are very welcome to submit your notebook as pull-request!"
   ]
  },
  {
   "cell_type": "code",
   "execution_count": 1,
   "metadata": {},
   "outputs": [
    {
     "data": {
      "text/plain": [
       "<NVIDIA GeForce RTX 2080 Ti on Platform: NVIDIA CUDA (1 refs)>"
      ]
     },
     "execution_count": 1,
     "metadata": {},
     "output_type": "execute_result"
    }
   ],
   "source": [
    "import pyclesperanto_prototype as cle\n",
    "from skimage import morphology\n",
    "import time\n",
    "\n",
    "# to measure kernel execution duration properly, we need to set this flag. It will slow down exection of workflows a bit though\n",
    "cle.set_wait_for_kernel_finish(True)\n",
    "\n",
    "# selet a GPU with the following in the name. This will fallback to any other GPU if none with this name is found\n",
    "cle.select_device('RTX')"
   ]
  },
  {
   "cell_type": "code",
   "execution_count": 2,
   "metadata": {},
   "outputs": [],
   "source": [
    "radius = 10\n",
    "disk_kernel = morphology.disk(radius)\n",
    "square_kernel = morphology.square(radius)"
   ]
  },
  {
   "cell_type": "code",
   "execution_count": 3,
   "metadata": {},
   "outputs": [],
   "source": [
    "# test data\n",
    "import numpy as np\n",
    "\n",
    "test_image = np.random.random([1500, 2000])"
   ]
  },
  {
   "cell_type": "code",
   "execution_count": 4,
   "metadata": {},
   "outputs": [
    {
     "name": "stdout",
     "output_type": "stream",
     "text": [
      "skimage top-hat disk duration: 2.396149158477783\n",
      "skimage top-hat disk duration: 2.4051051139831543\n",
      "skimage top-hat disk duration: 2.4281063079833984\n",
      "skimage top-hat disk duration: 2.461461067199707\n",
      "skimage top-hat disk duration: 2.479485511779785\n"
     ]
    }
   ],
   "source": [
    "# top-hat (disk) with scikit-image\n",
    "result_image = None\n",
    "\n",
    "for i in range(0, 5):\n",
    "    start_time = time.time()\n",
    "    result_image = morphology.white_tophat(test_image, selem=disk_kernel)\n",
    "    print(\"skimage top-hat disk duration: \" + str(time.time() - start_time))"
   ]
  },
  {
   "cell_type": "code",
   "execution_count": 5,
   "metadata": {},
   "outputs": [
    {
     "name": "stdout",
     "output_type": "stream",
     "text": [
      "skimage top-hat square duration: 0.144270658493042\n",
      "skimage top-hat square duration: 0.15311598777770996\n",
      "skimage top-hat square duration: 0.15148043632507324\n",
      "skimage top-hat square duration: 0.14820003509521484\n",
      "skimage top-hat square duration: 0.15033388137817383\n"
     ]
    }
   ],
   "source": [
    "# top-hat (square) with scikit-image\n",
    "result_image = None\n",
    "\n",
    "for i in range(0, 5):\n",
    "    start_time = time.time()\n",
    "    result_image = morphology.white_tophat(test_image, selem=square_kernel)\n",
    "    print(\"skimage top-hat square duration: \" + str(time.time() - start_time))"
   ]
  },
  {
   "cell_type": "code",
   "execution_count": 6,
   "metadata": {},
   "outputs": [
    {
     "name": "stdout",
     "output_type": "stream",
     "text": [
      "pyclesperanto top-hat-shere duration: 0.06879878044128418\n",
      "pyclesperanto top-hat-shere duration: 0.0225980281829834\n",
      "pyclesperanto top-hat-shere duration: 0.0\n",
      "pyclesperanto top-hat-shere duration: 0.015633821487426758\n",
      "pyclesperanto top-hat-shere duration: 0.015624523162841797\n"
     ]
    }
   ],
   "source": [
    "# top-hat (disk) with pyclesperanto\n",
    "result_image = None\n",
    "\n",
    "test_image_gpu = cle.push(test_image)\n",
    "\n",
    "for i in range(0, 5):\n",
    "    start_time = time.time()\n",
    "    result_image = cle.top_hat_sphere(test_image_gpu, result_image, radius_x=radius, radius_y=radius)\n",
    "    print(\"pyclesperanto top-hat-shere duration: \" + str(time.time() - start_time))"
   ]
  },
  {
   "cell_type": "code",
   "execution_count": 7,
   "metadata": {},
   "outputs": [
    {
     "name": "stdout",
     "output_type": "stream",
     "text": [
      "pyclesperanto top-hat-box duration: 0.025433778762817383\n",
      "pyclesperanto top-hat-box duration: 0.015667438507080078\n",
      "pyclesperanto top-hat-box duration: 0.015633583068847656\n",
      "pyclesperanto top-hat-box duration: 0.0\n",
      "pyclesperanto top-hat-box duration: 0.015616178512573242\n"
     ]
    }
   ],
   "source": [
    "# top-hat (square) using pyclesperanto\n",
    "result_image = None\n",
    "\n",
    "test_image_gpu = cle.push(test_image)\n",
    "\n",
    "for i in range(0, 5):\n",
    "    start_time = time.time()\n",
    "    result_image = cle.top_hat_box(test_image_gpu, result_image, radius_x=radius, radius_y=radius)\n",
    "    print(\"pyclesperanto top-hat-box duration: \" + str(time.time() - start_time))"
   ]
  },
  {
   "cell_type": "code",
   "execution_count": null,
   "metadata": {},
   "outputs": [],
   "source": []
  }
 ],
 "metadata": {
  "kernelspec": {
   "display_name": "Python 3 (ipykernel)",
   "language": "python",
   "name": "python3"
  },
  "language_info": {
   "codemirror_mode": {
    "name": "ipython",
    "version": 3
   },
   "file_extension": ".py",
   "mimetype": "text/x-python",
   "name": "python",
   "nbconvert_exporter": "python",
   "pygments_lexer": "ipython3",
   "version": "3.9.0"
  }
 },
 "nbformat": 4,
 "nbformat_minor": 4
}
