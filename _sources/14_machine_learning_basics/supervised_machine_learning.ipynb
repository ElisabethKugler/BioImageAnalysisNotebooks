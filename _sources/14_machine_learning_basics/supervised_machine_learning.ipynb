{
 "cells": [
  {
   "cell_type": "markdown",
   "id": "12032af8-547f-486b-baab-d9f3f46cf957",
   "metadata": {},
   "source": [
    "# Supervised machine learning\n",
    "Supervised machine learning is a technique for configuring (learning) parameters of a computational model based on annotated data. In this example, we provide sparsely annotated data, which means we only annotate some of the given data points.\n",
    "\n",
    "See also\n",
    "* [Supervised learning (Wikipedia)](https://en.wikipedia.org/wiki/Supervised_learning)\n",
    "* [Supervised learning in scikit-learn](https://scikit-learn.org/stable/supervised_learning.html)"
   ]
  },
  {
   "cell_type": "code",
   "execution_count": 1,
   "id": "825d6705-cf79-4b52-acc6-da93d6e2d96c",
   "metadata": {},
   "outputs": [],
   "source": [
    "import matplotlib.pyplot as plt\n",
    "import pandas as pd\n",
    "from sklearn.ensemble import RandomForestClassifier\n",
    "\n",
    "# local import; this library is located in the same folder as the notebook\n",
    "from data_generator import generate_biomodal_2d_data"
   ]
  },
  {
   "cell_type": "markdown",
   "id": "5292a204-9e34-47dd-8fac-f7db68cd4bc6",
   "metadata": {},
   "source": [
    "Our starting point for demonstrating supervised machine learning is a a pair of measurements in a bimodal distribution. In the following data set objects with a larger area are typically also more elongated."
   ]
  },
  {
   "cell_type": "code",
   "execution_count": 2,
   "id": "8e3707f7-77be-4a26-811d-3e6bdd47018e",
   "metadata": {},
   "outputs": [
    {
     "data": {
      "text/plain": [
       "Text(0, 0.5, 'elongation')"
      ]
     },
     "execution_count": 2,
     "metadata": {},
     "output_type": "execute_result"
    },
    {
     "data": {
      "image/png": "[encoded data removed]",
      "text/plain": [
       "<Figure size 432x288 with 1 Axes>"
      ]
     },
     "metadata": {
      "needs_background": "light"
     },
     "output_type": "display_data"
    }
   ],
   "source": [
    "data = generate_biomodal_2d_data()\n",
    "\n",
    "plt.scatter(data[:, 0], data[:, 1], c='#DDDDDD')\n",
    "plt.xlabel('area')\n",
    "plt.ylabel('elongation')"
   ]
  },
  {
   "cell_type": "markdown",
   "id": "ad993994-7a52-4d58-8873-6c095debe66e",
   "metadata": {},
   "source": [
    "To get a more detailed insight into the data, we print out the first entries."
   ]
  },
  {
   "cell_type": "code",
   "execution_count": 3,
   "id": "7d78f58d-7c5b-452a-b545-8b3e791f9c5a",
   "metadata": {},
   "outputs": [
    {
     "data": {
      "text/html": [
       "<div>\n",
       "<style scoped>\n",
       "    .dataframe tbody tr th:only-of-type {\n",
       "        vertical-align: middle;\n",
       "    }\n",
       "\n",
       "    .dataframe tbody tr th {\n",
       "        vertical-align: top;\n",
       "    }\n",
       "\n",
       "    .dataframe thead th {\n",
       "        text-align: right;\n",
       "    }\n",
       "</style>\n",
       "<table border=\"1\" class=\"dataframe\">\n",
       "  <thead>\n",
       "    <tr style=\"text-align: right;\">\n",
       "      <th></th>\n",
       "      <th>area</th>\n",
       "      <th>elongation</th>\n",
       "    </tr>\n",
       "  </thead>\n",
       "  <tbody>\n",
       "    <tr>\n",
       "      <th>0</th>\n",
       "      <td>3.950088</td>\n",
       "      <td>2.848643</td>\n",
       "    </tr>\n",
       "    <tr>\n",
       "      <th>1</th>\n",
       "      <td>4.955912</td>\n",
       "      <td>3.390093</td>\n",
       "    </tr>\n",
       "    <tr>\n",
       "      <th>2</th>\n",
       "      <td>7.469852</td>\n",
       "      <td>5.575289</td>\n",
       "    </tr>\n",
       "    <tr>\n",
       "      <th>3</th>\n",
       "      <td>2.544467</td>\n",
       "      <td>3.017479</td>\n",
       "    </tr>\n",
       "    <tr>\n",
       "      <th>4</th>\n",
       "      <td>3.465662</td>\n",
       "      <td>1.463756</td>\n",
       "    </tr>\n",
       "    <tr>\n",
       "      <th>5</th>\n",
       "      <td>3.156507</td>\n",
       "      <td>3.232181</td>\n",
       "    </tr>\n",
       "    <tr>\n",
       "      <th>6</th>\n",
       "      <td>9.978705</td>\n",
       "      <td>6.676372</td>\n",
       "    </tr>\n",
       "    <tr>\n",
       "      <th>7</th>\n",
       "      <td>6.001683</td>\n",
       "      <td>5.047063</td>\n",
       "    </tr>\n",
       "    <tr>\n",
       "      <th>8</th>\n",
       "      <td>2.457139</td>\n",
       "      <td>3.416050</td>\n",
       "    </tr>\n",
       "    <tr>\n",
       "      <th>9</th>\n",
       "      <td>3.672295</td>\n",
       "      <td>3.407462</td>\n",
       "    </tr>\n",
       "    <tr>\n",
       "      <th>10</th>\n",
       "      <td>9.413702</td>\n",
       "      <td>7.598608</td>\n",
       "    </tr>\n",
       "    <tr>\n",
       "      <th>11</th>\n",
       "      <td>2.896781</td>\n",
       "      <td>3.410599</td>\n",
       "    </tr>\n",
       "    <tr>\n",
       "      <th>12</th>\n",
       "      <td>2.305432</td>\n",
       "      <td>2.850365</td>\n",
       "    </tr>\n",
       "    <tr>\n",
       "      <th>13</th>\n",
       "      <td>4.640594</td>\n",
       "      <td>8.602249</td>\n",
       "    </tr>\n",
       "    <tr>\n",
       "      <th>14</th>\n",
       "      <td>3.523277</td>\n",
       "      <td>2.828454</td>\n",
       "    </tr>\n",
       "    <tr>\n",
       "      <th>15</th>\n",
       "      <td>7.636970</td>\n",
       "      <td>10.277392</td>\n",
       "    </tr>\n",
       "    <tr>\n",
       "      <th>16</th>\n",
       "      <td>7.223721</td>\n",
       "      <td>6.531755</td>\n",
       "    </tr>\n",
       "    <tr>\n",
       "      <th>17</th>\n",
       "      <td>7.146032</td>\n",
       "      <td>8.404857</td>\n",
       "    </tr>\n",
       "    <tr>\n",
       "      <th>18</th>\n",
       "      <td>7.407157</td>\n",
       "      <td>6.260869</td>\n",
       "    </tr>\n",
       "    <tr>\n",
       "      <th>19</th>\n",
       "      <td>6.543343</td>\n",
       "      <td>8.472226</td>\n",
       "    </tr>\n",
       "  </tbody>\n",
       "</table>\n",
       "</div>"
      ],
      "text/plain": [
       "        area  elongation\n",
       "0   3.950088    2.848643\n",
       "1   4.955912    3.390093\n",
       "2   7.469852    5.575289\n",
       "3   2.544467    3.017479\n",
       "4   3.465662    1.463756\n",
       "5   3.156507    3.232181\n",
       "6   9.978705    6.676372\n",
       "7   6.001683    5.047063\n",
       "8   2.457139    3.416050\n",
       "9   3.672295    3.407462\n",
       "10  9.413702    7.598608\n",
       "11  2.896781    3.410599\n",
       "12  2.305432    2.850365\n",
       "13  4.640594    8.602249\n",
       "14  3.523277    2.828454\n",
       "15  7.636970   10.277392\n",
       "16  7.223721    6.531755\n",
       "17  7.146032    8.404857\n",
       "18  7.407157    6.260869\n",
       "19  6.543343    8.472226"
      ]
     },
     "execution_count": 3,
     "metadata": {},
     "output_type": "execute_result"
    }
   ],
   "source": [
    "data_to_annotate = data[:20]\n",
    "\n",
    "pd.DataFrame(data_to_annotate, columns=[\"area\", \"elongation\"])"
   ]
  },
  {
   "cell_type": "markdown",
   "id": "9d40342e-61c9-417f-9f58-a46d3d707941",
   "metadata": {},
   "source": [
    "## Annotating data\n",
    "As mentioned above, supervised machine learning algorithms need some form of annotation, also called _ground truth_. We create a list of annotations where `1` represents small objects and `2` represents large and elongated objects."
   ]
  },
  {
   "cell_type": "code",
   "execution_count": 4,
   "id": "c00f573a-4e99-4031-acef-13a0bb56f4b3",
   "metadata": {},
   "outputs": [],
   "source": [
    "manual_annotation = [1, 1, 2, 1, 1, 1, 2, 2, 1, 1, 2, 1, 1, 2, 1, 2, 2, 2, 2, 2]"
   ]
  },
  {
   "cell_type": "markdown",
   "id": "c27e566a-70da-4a6e-a3ef-c83e903c8868",
   "metadata": {},
   "source": [
    "Now, we visualize the measurements again and draw the annotated measurements on top."
   ]
  },
  {
   "cell_type": "code",
   "execution_count": 5,
   "id": "8c66f554-231b-40ab-a9b2-d5bdc815c0f5",
   "metadata": {},
   "outputs": [
    {
     "data": {
      "text/plain": [
       "<matplotlib.collections.PathCollection at 0x7f973057b7f0>"
      ]
     },
     "execution_count": 5,
     "metadata": {},
     "output_type": "execute_result"
    },
    {
     "data": {
      "image/png": "[encoded data removed]",
      "text/plain": [
       "<Figure size 432x288 with 1 Axes>"
      ]
     },
     "metadata": {
      "needs_background": "light"
     },
     "output_type": "display_data"
    }
   ],
   "source": [
    "plt.scatter(data[:, 0], data[:, 1], c='#DDDDDD')\n",
    "plt.xlabel('area')\n",
    "plt.ylabel('elongation')\n",
    "\n",
    "colors = ['orange', 'blue']\n",
    "annotated_colors = [colors[i-1] for i in manual_annotation]\n",
    "\n",
    "plt.scatter(data_to_annotate[:, 0], data_to_annotate[:, 1], c=annotated_colors)"
   ]
  },
  {
   "cell_type": "markdown",
   "id": "22c17985-c857-4170-84ce-66e96f8e4971",
   "metadata": {},
   "source": [
    "## Classifier training\n",
    "With the selected data to annotate and the manual annotation, we can train a [Random Forest Classifier](https://en.wikipedia.org/wiki/Random_forest)."
   ]
  },
  {
   "cell_type": "code",
   "execution_count": 6,
   "id": "ec60e60e-bc9e-4e46-84a3-90366cf45c99",
   "metadata": {},
   "outputs": [
    {
     "data": {
      "text/plain": [
       "RandomForestClassifier()"
      ]
     },
     "execution_count": 6,
     "metadata": {},
     "output_type": "execute_result"
    }
   ],
   "source": [
    "classifier = RandomForestClassifier()\n",
    "classifier.fit(data_to_annotate, manual_annotation)"
   ]
  },
  {
   "cell_type": "markdown",
   "id": "a32230e9-6f91-4248-b47a-688fbfe29bf9",
   "metadata": {},
   "source": [
    "## Prediction\n",
    "With the trained classifier, we can process the whole data set. We can _classify_ the data points, or create a _prediction_ of the class."
   ]
  },
  {
   "cell_type": "code",
   "execution_count": 7,
   "id": "fa01dc06-1a8a-4f79-a6c9-de7c54087f54",
   "metadata": {},
   "outputs": [
    {
     "data": {
      "text/plain": [
       "array([1, 1, 2, 1, 1, 1, 2, 2, 1, 1, 2, 1, 1, 2, 1, 2, 2, 2, 2, 2, 1, 1,\n",
       "       1, 1, 2, 1, 2, 1, 2, 1, 2, 2, 1, 2, 2, 1, 1, 2, 1, 1, 1, 1, 2, 1,\n",
       "       2, 2, 2, 2, 2, 1, 1, 1, 2, 1, 2, 1, 2, 1, 2, 1, 2, 1, 1, 2, 2, 2,\n",
       "       2, 1, 1, 1, 1, 2, 1, 1, 2, 2, 2, 1, 1, 2, 2, 1, 2, 2, 2, 1, 1, 1,\n",
       "       2, 1, 2, 1, 2, 1, 2, 1, 2, 2, 1, 2, 1, 1, 2, 1, 1, 2, 1, 2, 1, 2,\n",
       "       1, 2, 2, 2, 1, 2, 2, 2, 2, 2, 2, 1, 2, 2, 1, 1, 1, 2, 2, 2, 1, 2,\n",
       "       2, 2, 1, 2, 1, 2, 2, 1, 2, 2, 2, 1, 2, 1, 1, 2, 2, 2, 1, 2, 1, 1,\n",
       "       1, 1, 2, 1, 1, 1, 1, 2, 1, 1, 2, 2, 2, 1, 1, 1, 1, 2, 2, 1, 1, 1,\n",
       "       1, 2, 2, 1, 2, 1, 1, 2, 2, 1, 1, 2, 1, 2, 1, 2, 1, 2, 2, 2, 1, 2,\n",
       "       1, 2, 1, 1, 2, 2, 2, 1, 1, 1, 2, 2, 1, 2, 1, 2, 1, 2, 1, 1, 2, 1,\n",
       "       1, 2, 1, 1, 2, 2, 2, 1, 1, 1, 2, 2, 2, 2, 2, 1, 2, 1, 1, 2, 2, 2,\n",
       "       1, 1, 2, 1, 1, 2, 1, 2, 2, 2, 1, 1, 2, 2, 1, 1, 1, 2, 2, 1, 1, 1,\n",
       "       1, 1, 2, 2, 1, 1, 1, 1, 1, 1, 2, 2, 2, 1, 1, 2, 2, 2, 1, 2, 1, 2,\n",
       "       2, 1, 2, 2, 1, 2, 2, 1, 1, 2, 1, 1, 2, 2])"
      ]
     },
     "execution_count": 7,
     "metadata": {},
     "output_type": "execute_result"
    }
   ],
   "source": [
    "prediction = classifier.predict(data)\n",
    "prediction"
   ]
  },
  {
   "cell_type": "markdown",
   "id": "a2d4abcf-124f-4182-a705-e2884bb407d0",
   "metadata": {},
   "source": [
    "Here we now visualize the whole data set with class colors."
   ]
  },
  {
   "cell_type": "code",
   "execution_count": 8,
   "id": "f35dce87-89e0-4fec-ba16-020188f6bdb3",
   "metadata": {},
   "outputs": [
    {
     "data": {
      "text/plain": [
       "Text(0, 0.5, 'elongation')"
      ]
     },
     "execution_count": 8,
     "metadata": {},
     "output_type": "execute_result"
    },
    {
     "data": {
      "image/png": "[encoded data removed]",
      "text/plain": [
       "<Figure size 432x288 with 1 Axes>"
      ]
     },
     "metadata": {
      "needs_background": "light"
     },
     "output_type": "display_data"
    }
   ],
   "source": [
    "predicted_colors = [colors[i-1] for i in prediction]\n",
    "\n",
    "plt.scatter(data[:, 0], data[:, 1], c=predicted_colors)\n",
    "plt.xlabel('area')\n",
    "plt.ylabel('elongation')"
   ]
  },
  {
   "cell_type": "markdown",
   "id": "3988aaa0-90be-4101-a334-d262071bd8ca",
   "metadata": {},
   "source": [
    "## Exercise\n",
    "Train a [Support Vector Machine](https://scikit-learn.org/stable/modules/svm.html) and visualize its prediction."
   ]
  },
  {
   "cell_type": "code",
   "execution_count": 9,
   "id": "ccbd88e3-34e8-4aee-9fcd-e6d72e7c60fe",
   "metadata": {},
   "outputs": [],
   "source": [
    "from sklearn.svm import SVC\n",
    "\n",
    "classifier = SVC()"
   ]
  },
  {
   "cell_type": "code",
   "execution_count": null,
   "id": "8a0e2948-ecf7-4b74-8137-a46523b2ef50",
   "metadata": {},
   "outputs": [],
   "source": []
  }
 ],
 "metadata": {
  "kernelspec": {
   "display_name": "Python 3 (ipykernel)",
   "language": "python",
   "name": "python3"
  },
  "language_info": {
   "codemirror_mode": {
    "name": "ipython",
    "version": 3
   },
   "file_extension": ".py",
   "mimetype": "text/x-python",
   "name": "python",
   "nbconvert_exporter": "python",
   "pygments_lexer": "ipython3",
   "version": "3.9.0"
  }
 },
 "nbformat": 4,
 "nbformat_minor": 5
}
