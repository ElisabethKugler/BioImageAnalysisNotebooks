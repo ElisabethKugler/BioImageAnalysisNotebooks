{
 "cells": [
  {
   "cell_type": "markdown",
   "id": "e8248096-a84a-4bd2-b7ef-a82c7f7cf2a8",
   "metadata": {},
   "source": [
    "(image-segmentation:relabel-sequential)=\n",
    "# Sequential object (re-)labeling\n",
    "\n",
    "As mentioned above, depending on the use-case it might be important to label objects in an image subsequently. It could for example be that a post-processing algorithm for label images crashes in case we pass a label image with missing labels. Hence, we should know how to relabel an image sequentially."
   ]
  },
  {
   "cell_type": "code",
   "execution_count": 1,
   "id": "b36594e9-bb16-401b-8fd1-9b53b9467f70",
   "metadata": {},
   "outputs": [],
   "source": [
    "import numpy as np\n",
    "from skimage.segmentation import relabel_sequential\n",
    "import pyclesperanto_prototype as cle"
   ]
  },
  {
   "cell_type": "markdown",
   "id": "4835213a-332f-4cfc-aa99-3b1db0893025",
   "metadata": {},
   "source": [
    "Our starting point is a label image with labels 1-5, where label 3 is not present:"
   ]
  },
  {
   "cell_type": "code",
   "execution_count": 8,
   "id": "bb8c2c52-55b6-406c-bb4a-ffd5705ed195",
   "metadata": {},
   "outputs": [
    {
     "name": "stdout",
     "output_type": "stream",
     "text": [
      "[[1 1 2 2 0]\n",
      " [0 1 4 5 0]]\n"
     ]
    },
    {
     "data": {
      "image/png": "[encoded data removed]",
      "text/plain": [
       "<Figure size 432x288 with 1 Axes>"
      ]
     },
     "metadata": {
      "needs_background": "light"
     },
     "output_type": "display_data"
    }
   ],
   "source": [
    "label_image = np.asarray([\n",
    "    [1,1,2,2,0],\n",
    "    [0,1,4,5,0]\n",
    "])\n",
    "print(label_image)\n",
    "cle.imshow(label_image, labels=True)"
   ]
  },
  {
   "cell_type": "markdown",
   "id": "c473353f-3a44-4a5d-b941-e7820fb9b3c3",
   "metadata": {},
   "source": [
    "We can now relabel this image and remove these gaps using [scikit-image's `relabel_sequential()` function](https://scikit-image.org/docs/dev/api/skimage.segmentation.html#skimage.segmentation.relabel_sequential):"
   ]
  },
  {
   "cell_type": "code",
   "execution_count": 13,
   "id": "ca80dc93-0bb4-47c7-baad-ec8227da6ee5",
   "metadata": {},
   "outputs": [
    {
     "name": "stdout",
     "output_type": "stream",
     "text": [
      "[[1 1 2 2 0]\n",
      " [0 1 3 4 0]]\n"
     ]
    },
    {
     "data": {
      "image/png": "[encoded data removed]",
      "text/plain": [
       "<Figure size 432x288 with 1 Axes>"
      ]
     },
     "metadata": {
      "needs_background": "light"
     },
     "output_type": "display_data"
    }
   ],
   "source": [
    "relabeled, _, _ = relabel_sequential(label_image)\n",
    "\n",
    "print(relabeled)\n",
    "cle.imshow(relabeled, labels=True)"
   ]
  },
  {
   "cell_type": "markdown",
   "id": "0b567dd2-669e-4ae2-927b-ef848020e628",
   "metadata": {},
   "source": [
    "We're entering the `_` as additional return variables as we're not interested in them. This is necessary because the `relabel_sequential` function returns three things, but we only need the first.\n",
    "\n",
    "## Relabeling using pyclesperanto\n",
    "Also pyclesperanto has a function relabeling label images sequentially. The result is supposed identical to the result in scikit-image. It just doesn't return the additional values."
   ]
  },
  {
   "cell_type": "code",
   "execution_count": 16,
   "id": "4227c8ef-3d49-491f-8442-27334cdb9f41",
   "metadata": {},
   "outputs": [
    {
     "name": "stdout",
     "output_type": "stream",
     "text": [
      "[[1 1 2 2 0]\n",
      " [0 1 3 4 0]]\n"
     ]
    },
    {
     "data": {
      "image/png": "[encoded data removed]",
      "text/plain": [
       "<Figure size 432x288 with 1 Axes>"
      ]
     },
     "metadata": {
      "needs_background": "light"
     },
     "output_type": "display_data"
    }
   ],
   "source": [
    "relabeled1 = cle.relabel_sequential(label_image)\n",
    "\n",
    "print(relabeled1)\n",
    "cle.imshow(relabeled1, labels=True)"
   ]
  },
  {
   "cell_type": "code",
   "execution_count": null,
   "id": "3be532c5-5674-49ac-ab3c-053e54d6d146",
   "metadata": {},
   "outputs": [],
   "source": []
  }
 ],
 "metadata": {
  "kernelspec": {
   "display_name": "Python 3 (ipykernel)",
   "language": "python",
   "name": "python3"
  },
  "language_info": {
   "codemirror_mode": {
    "name": "ipython",
    "version": 3
   },
   "file_extension": ".py",
   "mimetype": "text/x-python",
   "name": "python",
   "nbconvert_exporter": "python",
   "pygments_lexer": "ipython3",
   "version": "3.9.0"
  }
 },
 "nbformat": 4,
 "nbformat_minor": 5
}
