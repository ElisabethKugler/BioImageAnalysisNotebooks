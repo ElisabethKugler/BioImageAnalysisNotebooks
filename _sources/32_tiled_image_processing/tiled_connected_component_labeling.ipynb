{
 "cells": [
  {
   "cell_type": "markdown",
   "id": "cd0315c9-a953-4456-bcd6-1ff060d517f0",
   "metadata": {},
   "source": [
    "# Connected component labeling in tiles"
   ]
  },
  {
   "cell_type": "code",
   "execution_count": 1,
   "id": "72b4f4d8-d927-41a9-87e4-8d7a1cbc9a21",
   "metadata": {},
   "outputs": [],
   "source": [
    "import numpy as np\n",
    "import dask\n",
    "import dask.array as da\n",
    "from skimage.data import cells3d\n",
    "from skimage.io import imread\n",
    "from skimage.measure import label as skimage_label\n",
    "import pyclesperanto_prototype as cle\n",
    "from pyclesperanto_prototype import imshow\n",
    "from dask_image.ndmeasure import label as daskimage_label"
   ]
  },
  {
   "cell_type": "code",
   "execution_count": 2,
   "id": "53c97620-8695-492d-9efb-e53d31617852",
   "metadata": {},
   "outputs": [
    {
     "data": {
      "image/png": "[encoded data removed]",
      "text/plain": [
       "<Figure size 432x288 with 1 Axes>"
      ]
     },
     "metadata": {
      "needs_background": "light"
     },
     "output_type": "display_data"
    }
   ],
   "source": [
    "image = imread(\"../../data/blobs.tif\") > 128\n",
    "imshow(image)"
   ]
  },
  {
   "cell_type": "code",
   "execution_count": 3,
   "id": "5b4c8e9f-a519-4248-a373-61fc0b1a71f6",
   "metadata": {},
   "outputs": [
    {
     "data": {
      "text/html": [
       "<table>\n",
       "    <tr>\n",
       "        <td>\n",
       "            <table>\n",
       "                <thead>\n",
       "                    <tr>\n",
       "                        <td> </td>\n",
       "                        <th> Array </th>\n",
       "                        <th> Chunk </th>\n",
       "                    </tr>\n",
       "                </thead>\n",
       "                <tbody>\n",
       "                    \n",
       "                    <tr>\n",
       "                        <th> Bytes </th>\n",
       "                        <td> 63.50 kiB </td>\n",
       "                        <td> 16.00 kiB </td>\n",
       "                    </tr>\n",
       "                    \n",
       "                    <tr>\n",
       "                        <th> Shape </th>\n",
       "                        <td> (254, 256) </td>\n",
       "                        <td> (128, 128) </td>\n",
       "                    </tr>\n",
       "                    <tr>\n",
       "                        <th> Count </th>\n",
       "                        <td> 4 Tasks </td>\n",
       "                        <td> 4 Chunks </td>\n",
       "                    </tr>\n",
       "                    <tr>\n",
       "                    <th> Type </th>\n",
       "                    <td> bool </td>\n",
       "                    <td> numpy.ndarray </td>\n",
       "                    </tr>\n",
       "                </tbody>\n",
       "            </table>\n",
       "        </td>\n",
       "        <td>\n",
       "        <svg width=\"170\" height=\"169\" style=\"stroke:rgb(0,0,0);stroke-width:1\" >\n",
       "\n",
       "  <!-- Horizontal lines -->\n",
       "  <line x1=\"0\" y1=\"0\" x2=\"120\" y2=\"0\" style=\"stroke-width:2\" />\n",
       "  <line x1=\"0\" y1=\"60\" x2=\"120\" y2=\"60\" />\n",
       "  <line x1=\"0\" y1=\"119\" x2=\"120\" y2=\"119\" style=\"stroke-width:2\" />\n",
       "\n",
       "  <!-- Vertical lines -->\n",
       "  <line x1=\"0\" y1=\"0\" x2=\"0\" y2=\"119\" style=\"stroke-width:2\" />\n",
       "  <line x1=\"60\" y1=\"0\" x2=\"60\" y2=\"119\" />\n",
       "  <line x1=\"120\" y1=\"0\" x2=\"120\" y2=\"119\" style=\"stroke-width:2\" />\n",
       "\n",
       "  <!-- Colored Rectangle -->\n",
       "  <polygon points=\"0.0,0.0 120.0,0.0 120.0,119.0625 0.0,119.0625\" style=\"fill:#ECB172A0;stroke-width:0\"/>\n",
       "\n",
       "  <!-- Text -->\n",
       "  <text x=\"60.000000\" y=\"139.062500\" font-size=\"1.0rem\" font-weight=\"100\" text-anchor=\"middle\" >256</text>\n",
       "  <text x=\"140.000000\" y=\"59.531250\" font-size=\"1.0rem\" font-weight=\"100\" text-anchor=\"middle\" transform=\"rotate(-90,140.000000,59.531250)\">254</text>\n",
       "</svg>\n",
       "        </td>\n",
       "    </tr>\n",
       "</table>"
      ],
      "text/plain": [
       "dask.array<array, shape=(254, 256), dtype=bool, chunksize=(128, 128), chunktype=numpy.ndarray>"
      ]
     },
     "execution_count": 3,
     "metadata": {},
     "output_type": "execute_result"
    }
   ],
   "source": [
    "tiles = da.from_array(image, chunks=(128, 128))\n",
    "tiles"
   ]
  },
  {
   "cell_type": "markdown",
   "id": "3854d6c0-014e-4551-8847-0eb79af4de1f",
   "metadata": {},
   "source": [
    "We will use scikit-image function `label()` for processing our image."
   ]
  },
  {
   "cell_type": "code",
   "execution_count": 4,
   "id": "6ac3bd84-5486-40c7-b9b4-35ff616f7bde",
   "metadata": {},
   "outputs": [
    {
     "data": {
      "image/png": "[encoded data removed]",
      "text/plain": [
       "<Figure size 432x288 with 1 Axes>"
      ]
     },
     "metadata": {
      "needs_background": "light"
     },
     "output_type": "display_data"
    }
   ],
   "source": [
    "procedure = skimage_label\n",
    "\n",
    "tile_map = da.map_blocks(procedure, tiles)\n",
    "\n",
    "result = tile_map.compute()\n",
    "imshow(result, labels=True)"
   ]
  },
  {
   "cell_type": "markdown",
   "id": "c3c86c61-aa5d-4b1f-b7b2-18a97b5b1a70",
   "metadata": {},
   "source": [
    "In this image, we can already see that the result has artifacts at the tile borders in the horizontal and vertical image center. To further check the result, we will compute the connected component labeling of the image without tiling."
   ]
  },
  {
   "cell_type": "code",
   "execution_count": 5,
   "id": "d58e71bd-f82a-43e2-a451-70d0e8be5538",
   "metadata": {},
   "outputs": [
    {
     "data": {
      "image/png": "[encoded data removed]",
      "text/plain": [
       "<Figure size 432x288 with 1 Axes>"
      ]
     },
     "metadata": {
      "needs_background": "light"
     },
     "output_type": "display_data"
    }
   ],
   "source": [
    "reference = skimage_label(image)\n",
    "\n",
    "imshow(reference, labels=True)"
   ]
  },
  {
   "cell_type": "markdown",
   "id": "59d113dc-f203-4fca-87a2-c67ffadad9ba",
   "metadata": {},
   "source": [
    "Next, we can compare the maximum intensity in the label image to see if the total number of labels in these two images are equal. They are not:"
   ]
  },
  {
   "cell_type": "code",
   "execution_count": 6,
   "id": "6517cdda-faf4-4b55-9945-0ce96eddca7d",
   "metadata": {},
   "outputs": [
    {
     "data": {
      "text/plain": [
       "(20, 63)"
      ]
     },
     "execution_count": 6,
     "metadata": {},
     "output_type": "execute_result"
    }
   ],
   "source": [
    "result.max(), reference.max()"
   ]
  },
  {
   "cell_type": "markdown",
   "id": "98ecf07d-e17e-4fd5-97ac-d9b78c516a19",
   "metadata": {},
   "source": [
    "By computing the standard deviation of the pixel intensity in the result image grouped by the reference labels, we can visualize which objects are not segmented correctly."
   ]
  },
  {
   "cell_type": "code",
   "execution_count": 17,
   "id": "43fd3c33-4b47-406d-bf9f-0a117da2c39e",
   "metadata": {},
   "outputs": [
    {
     "data": {
      "image/png": "[encoded data removed]",
      "text/plain": [
       "<Figure size 432x288 with 1 Axes>"
      ]
     },
     "metadata": {
      "needs_background": "light"
     },
     "output_type": "display_data"
    }
   ],
   "source": [
    "stddev_map = cle.standard_deviation_intensity_map(result, reference) > 0\n",
    "\n",
    "imshow(stddev_map)"
   ]
  },
  {
   "cell_type": "markdown",
   "id": "7de08b67-58e6-4db3-95df-f12a855625e5",
   "metadata": {},
   "source": [
    "## Tiled connected component labeling using dask-image\n",
    "The image processing library dask-image has a distributed version of connected component labeling available [dask_image.ndmeasure.label](http://image.dask.org/en/latest/dask_image.ndmeasure.html?highlight=label#dask_image.ndmeasure.label):"
   ]
  },
  {
   "cell_type": "code",
   "execution_count": 18,
   "id": "34ada0ea-e5a6-42be-9fe2-bbf4d70d410b",
   "metadata": {},
   "outputs": [
    {
     "data": {
      "image/png": "[encoded data removed]",
      "text/plain": [
       "<Figure size 432x288 with 1 Axes>"
      ]
     },
     "metadata": {
      "needs_background": "light"
     },
     "output_type": "display_data"
    }
   ],
   "source": [
    "result_di, num_labels = daskimage_label(image)\n",
    "\n",
    "imshow(result_di, labels=True)"
   ]
  },
  {
   "cell_type": "markdown",
   "id": "25edd7ee-e70d-4da2-b29a-a4d1cab8e5d3",
   "metadata": {},
   "source": [
    "Note that the result of this operation is a dask-array, and computing the maximum for example is not straightforward:"
   ]
  },
  {
   "cell_type": "code",
   "execution_count": 26,
   "id": "64c23ad5-0bbd-4d29-a9fa-f7e5b6011572",
   "metadata": {},
   "outputs": [
    {
     "data": {
      "text/plain": [
       "(dask.array<amax-aggregate, shape=(), dtype=int32, chunksize=(), chunktype=numpy.ndarray>,\n",
       " 63)"
      ]
     },
     "execution_count": 26,
     "metadata": {},
     "output_type": "execute_result"
    }
   ],
   "source": [
    "result_di.max(), reference.max()"
   ]
  },
  {
   "cell_type": "code",
   "execution_count": 27,
   "id": "87311213-c37b-448d-9a67-c707ffaf434b",
   "metadata": {},
   "outputs": [
    {
     "data": {
      "text/plain": [
       "(63, 63)"
      ]
     },
     "execution_count": 27,
     "metadata": {},
     "output_type": "execute_result"
    }
   ],
   "source": [
    "np.asarray(result_di).max(), reference.max()"
   ]
  },
  {
   "cell_type": "code",
   "execution_count": null,
   "id": "1f759718-ede4-4ee0-9336-8692a930de4c",
   "metadata": {},
   "outputs": [],
   "source": []
  }
 ],
 "metadata": {
  "kernelspec": {
   "display_name": "Python 3 (ipykernel)",
   "language": "python",
   "name": "python3"
  },
  "language_info": {
   "codemirror_mode": {
    "name": "ipython",
    "version": 3
   },
   "file_extension": ".py",
   "mimetype": "text/x-python",
   "name": "python",
   "nbconvert_exporter": "python",
   "pygments_lexer": "ipython3",
   "version": "3.9.0"
  }
 },
 "nbformat": 4,
 "nbformat_minor": 5
}
