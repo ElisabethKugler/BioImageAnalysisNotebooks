{
 "cells": [
  {
   "cell_type": "markdown",
   "id": "fc865825-fe1d-4da8-83e6-8996422cc66d",
   "metadata": {},
   "source": [
    "# Richardson-Lucy-Deconvolution"
   ]
  },
  {
   "cell_type": "code",
   "execution_count": 1,
   "id": "f9023ea3-8166-4484-818d-f350ae2400c8",
   "metadata": {},
   "outputs": [],
   "source": [
    "from skimage.io import imread\n",
    "from pyclesperanto_prototype import imshow\n",
    "import pyclesperanto_prototype as cle"
   ]
  },
  {
   "cell_type": "code",
   "execution_count": 2,
   "id": "6a92b613-b5ef-4021-9813-37cf3e8e31ec",
   "metadata": {},
   "outputs": [],
   "source": [
    "import RedLionfishDeconv as rl"
   ]
  },
  {
   "cell_type": "code",
   "execution_count": 3,
   "id": "8473a58b-6977-4d72-a107-b3c5dfb56460",
   "metadata": {},
   "outputs": [
    {
     "ename": "LogicError",
     "evalue": "clGetPlatformIDs failed: PLATFORM_NOT_FOUND_KHR",
     "output_type": "error",
     "traceback": [
      "\u001b[0;31m---------------------------------------------------------------------------\u001b[0m",
      "\u001b[0;31mLogicError\u001b[0m                                Traceback (most recent call last)",
      "Input \u001b[0;32mIn [3]\u001b[0m, in \u001b[0;36m<module>\u001b[0;34m\u001b[0m\n\u001b[1;32m      1\u001b[0m image \u001b[38;5;241m=\u001b[39m imread(\u001b[38;5;124m'\u001b[39m\u001b[38;5;124m../../data/DeconvolutionSampleVerticalGrid1AU-crop.tif\u001b[39m\u001b[38;5;124m'\u001b[39m)\n\u001b[0;32m----> 2\u001b[0m \u001b[43mimshow\u001b[49m\u001b[43m(\u001b[49m\u001b[43mimage\u001b[49m\u001b[43m)\u001b[49m\n",
      "File \u001b[0;32m~/code/pr4deepr_pyclesperanto_prototype/pyclesperanto_prototype/_tier9/_imshow.py:8\u001b[0m, in \u001b[0;36mimshow\u001b[0;34m(image, title, labels, min_display_intensity, max_display_intensity, color_map, plot, colorbar)\u001b[0m\n\u001b[1;32m      5\u001b[0m \u001b[38;5;28;01mfrom\u001b[39;00m \u001b[38;5;21;01m.\u001b[39;00m\u001b[38;5;21;01m.\u001b[39;00m\u001b[38;5;21;01m_tier1\u001b[39;00m \u001b[38;5;28;01mimport\u001b[39;00m maximum_z_projection\n\u001b[1;32m      7\u001b[0m \u001b[38;5;28;01mif\u001b[39;00m \u001b[38;5;28mlen\u001b[39m(image\u001b[38;5;241m.\u001b[39mshape) \u001b[38;5;241m==\u001b[39m \u001b[38;5;241m3\u001b[39m:\n\u001b[0;32m----> 8\u001b[0m     image \u001b[38;5;241m=\u001b[39m \u001b[43mmaximum_z_projection\u001b[49m\u001b[43m(\u001b[49m\u001b[43mimage\u001b[49m\u001b[43m)\u001b[49m\n\u001b[1;32m     10\u001b[0m image \u001b[38;5;241m=\u001b[39m pull(image)\n\u001b[1;32m     12\u001b[0m cmap \u001b[38;5;241m=\u001b[39m color_map\n",
      "File \u001b[0;32m~/code/pr4deepr_pyclesperanto_prototype/pyclesperanto_prototype/_tier0/_plugin_function.py:65\u001b[0m, in \u001b[0;36mplugin_function.<locals>.worker_function\u001b[0;34m(*args, **kwargs)\u001b[0m\n\u001b[1;32m     63\u001b[0m \u001b[38;5;28;01mfor\u001b[39;00m key, value \u001b[38;5;129;01min\u001b[39;00m bound\u001b[38;5;241m.\u001b[39marguments\u001b[38;5;241m.\u001b[39mitems():\n\u001b[1;32m     64\u001b[0m     \u001b[38;5;28;01mif\u001b[39;00m is_image(value) \u001b[38;5;129;01mand\u001b[39;00m key \u001b[38;5;129;01min\u001b[39;00m sig\u001b[38;5;241m.\u001b[39mparameters \u001b[38;5;129;01mand\u001b[39;00m sig\u001b[38;5;241m.\u001b[39mparameters[key]\u001b[38;5;241m.\u001b[39mannotation \u001b[38;5;129;01mis\u001b[39;00m Image:\n\u001b[0;32m---> 65\u001b[0m         bound\u001b[38;5;241m.\u001b[39marguments[key] \u001b[38;5;241m=\u001b[39m \u001b[43mpush\u001b[49m\u001b[43m(\u001b[49m\u001b[43mvalue\u001b[49m\u001b[43m)\u001b[49m\n\u001b[1;32m     66\u001b[0m     \u001b[38;5;28;01mif\u001b[39;00m key \u001b[38;5;129;01min\u001b[39;00m sig\u001b[38;5;241m.\u001b[39mparameters \u001b[38;5;129;01mand\u001b[39;00m sig\u001b[38;5;241m.\u001b[39mparameters[key]\u001b[38;5;241m.\u001b[39mannotation \u001b[38;5;129;01mis\u001b[39;00m Image \u001b[38;5;129;01mand\u001b[39;00m value \u001b[38;5;129;01mis\u001b[39;00m \u001b[38;5;28;01mNone\u001b[39;00m:\n\u001b[1;32m     67\u001b[0m         sig2 \u001b[38;5;241m=\u001b[39m inspect\u001b[38;5;241m.\u001b[39msignature(output_creator)\n",
      "File \u001b[0;32m~/code/pr4deepr_pyclesperanto_prototype/pyclesperanto_prototype/_tier0/_push.py:38\u001b[0m, in \u001b[0;36mpush\u001b[0;34m(any_array)\u001b[0m\n\u001b[1;32m     35\u001b[0m     any_array \u001b[38;5;241m=\u001b[39m np\u001b[38;5;241m.\u001b[39masarray(any_array\u001b[38;5;241m.\u001b[39mget())\n\u001b[1;32m     37\u001b[0m float_arr \u001b[38;5;241m=\u001b[39m any_array\u001b[38;5;241m.\u001b[39mastype(np\u001b[38;5;241m.\u001b[39mfloat32)\n\u001b[0;32m---> 38\u001b[0m \u001b[38;5;28;01mreturn\u001b[39;00m \u001b[43mBackend\u001b[49m\u001b[38;5;241;43m.\u001b[39;49m\u001b[43mget_instance\u001b[49m\u001b[43m(\u001b[49m\u001b[43m)\u001b[49m\u001b[38;5;241;43m.\u001b[39;49m\u001b[43mget\u001b[49m\u001b[43m(\u001b[49m\u001b[43m)\u001b[49m\u001b[38;5;241;43m.\u001b[39;49m\u001b[43mfrom_array\u001b[49m\u001b[43m(\u001b[49m\u001b[43mfloat_arr\u001b[49m\u001b[43m)\u001b[49m\n",
      "File \u001b[0;32m~/code/pr4deepr_pyclesperanto_prototype/pyclesperanto_prototype/_tier0/_opencl_backend.py:44\u001b[0m, in \u001b[0;36mOpenCLBackend.from_array\u001b[0;34m(self, *args, **kwargs)\u001b[0m\n\u001b[1;32m     43\u001b[0m \u001b[38;5;28;01mdef\u001b[39;00m \u001b[38;5;21mfrom_array\u001b[39m(\u001b[38;5;28mself\u001b[39m, \u001b[38;5;241m*\u001b[39margs, \u001b[38;5;241m*\u001b[39m\u001b[38;5;241m*\u001b[39mkwargs):\n\u001b[0;32m---> 44\u001b[0m     \u001b[38;5;28;01mreturn\u001b[39;00m \u001b[43mOCLArray\u001b[49m\u001b[38;5;241;43m.\u001b[39;49m\u001b[43mfrom_array\u001b[49m\u001b[43m(\u001b[49m\u001b[38;5;241;43m*\u001b[39;49m\u001b[43margs\u001b[49m\u001b[43m,\u001b[49m\u001b[43m \u001b[49m\u001b[38;5;241;43m*\u001b[39;49m\u001b[38;5;241;43m*\u001b[39;49m\u001b[43mkwargs\u001b[49m\u001b[43m)\u001b[49m\n",
      "File \u001b[0;32m~/code/pr4deepr_pyclesperanto_prototype/pyclesperanto_prototype/_tier0/_pycl.py:69\u001b[0m, in \u001b[0;36mOCLArray.from_array\u001b[0;34m(cls, arr, *args, **kwargs)\u001b[0m\n\u001b[1;32m     66\u001b[0m \u001b[38;5;129m@classmethod\u001b[39m\n\u001b[1;32m     67\u001b[0m \u001b[38;5;28;01mdef\u001b[39;00m \u001b[38;5;21mfrom_array\u001b[39m(\u001b[38;5;28mcls\u001b[39m, arr, \u001b[38;5;241m*\u001b[39margs, \u001b[38;5;241m*\u001b[39m\u001b[38;5;241m*\u001b[39mkwargs):\n\u001b[1;32m     68\u001b[0m     assert_supported_ndarray_type(arr\u001b[38;5;241m.\u001b[39mdtype\u001b[38;5;241m.\u001b[39mtype)\n\u001b[0;32m---> 69\u001b[0m     queue \u001b[38;5;241m=\u001b[39m \u001b[43mget_device\u001b[49m\u001b[43m(\u001b[49m\u001b[43m)\u001b[49m\u001b[38;5;241m.\u001b[39mqueue\n\u001b[1;32m     70\u001b[0m     \u001b[38;5;28;01mreturn\u001b[39;00m OCLArray\u001b[38;5;241m.\u001b[39mto_device(queue, prepare(arr), \u001b[38;5;241m*\u001b[39margs, \u001b[38;5;241m*\u001b[39m\u001b[38;5;241m*\u001b[39mkwargs)\n",
      "File \u001b[0;32m~/code/pr4deepr_pyclesperanto_prototype/pyclesperanto_prototype/_tier0/_device.py:43\u001b[0m, in \u001b[0;36mget_device\u001b[0;34m()\u001b[0m\n\u001b[1;32m     41\u001b[0m \u001b[38;5;28;01mdef\u001b[39;00m \u001b[38;5;21mget_device\u001b[39m() \u001b[38;5;241m-\u001b[39m\u001b[38;5;241m>\u001b[39m Device:\n\u001b[1;32m     42\u001b[0m     \u001b[38;5;124;03m\"\"\"Get the current device GPU class.\"\"\"\u001b[39;00m\n\u001b[0;32m---> 43\u001b[0m     \u001b[38;5;28;01mreturn\u001b[39;00m _current_device\u001b[38;5;241m.\u001b[39m_instance \u001b[38;5;129;01mor\u001b[39;00m \u001b[43mselect_device\u001b[49m\u001b[43m(\u001b[49m\u001b[43m)\u001b[49m\n",
      "File \u001b[0;32m~/code/pr4deepr_pyclesperanto_prototype/pyclesperanto_prototype/_tier0/_device.py:72\u001b[0m, in \u001b[0;36mselect_device\u001b[0;34m(name, dev_type, score_key)\u001b[0m\n\u001b[1;32m     68\u001b[0m \u001b[38;5;28;01mexcept\u001b[39;00m:\n\u001b[1;32m     69\u001b[0m     \u001b[38;5;28;01mpass\u001b[39;00m\n\u001b[0;32m---> 72\u001b[0m device \u001b[38;5;241m=\u001b[39m \u001b[43mfilter_devices\u001b[49m\u001b[43m(\u001b[49m\u001b[43mname\u001b[49m\u001b[43m,\u001b[49m\u001b[43m \u001b[49m\u001b[43mdev_type\u001b[49m\u001b[43m,\u001b[49m\u001b[43m \u001b[49m\u001b[43mscore_key\u001b[49m\u001b[43m)\u001b[49m[\u001b[38;5;241m-\u001b[39m\u001b[38;5;241m1\u001b[39m]\n\u001b[1;32m     73\u001b[0m \u001b[38;5;28;01mif\u001b[39;00m _current_device\u001b[38;5;241m.\u001b[39m_instance \u001b[38;5;129;01mand\u001b[39;00m device \u001b[38;5;241m==\u001b[39m _current_device\u001b[38;5;241m.\u001b[39m_instance\u001b[38;5;241m.\u001b[39mdevice:\n\u001b[1;32m     74\u001b[0m     \u001b[38;5;28;01mreturn\u001b[39;00m _current_device\u001b[38;5;241m.\u001b[39m_instance\n",
      "File \u001b[0;32m~/code/pr4deepr_pyclesperanto_prototype/pyclesperanto_prototype/_tier0/_device.py:101\u001b[0m, in \u001b[0;36mfilter_devices\u001b[0;34m(name, dev_type, score_key)\u001b[0m\n\u001b[1;32m     89\u001b[0m \u001b[38;5;124;03m\"\"\"Filter devices based on various options\u001b[39;00m\n\u001b[1;32m     90\u001b[0m \n\u001b[1;32m     91\u001b[0m \u001b[38;5;124;03m:param name: First device that contains ``name`` will be returned, defaults to None\u001b[39;00m\n\u001b[0;32m   (...)\u001b[0m\n\u001b[1;32m     98\u001b[0m \u001b[38;5;124;03m:rtype: List[cl.Device]\u001b[39;00m\n\u001b[1;32m     99\u001b[0m \u001b[38;5;124;03m\"\"\"\u001b[39;00m\n\u001b[1;32m    100\u001b[0m devices \u001b[38;5;241m=\u001b[39m []\n\u001b[0;32m--> 101\u001b[0m \u001b[38;5;28;01mfor\u001b[39;00m platform \u001b[38;5;129;01min\u001b[39;00m \u001b[43mcl\u001b[49m\u001b[38;5;241;43m.\u001b[39;49m\u001b[43mget_platforms\u001b[49m\u001b[43m(\u001b[49m\u001b[43m)\u001b[49m:\n\u001b[1;32m    102\u001b[0m     \u001b[38;5;28;01mfor\u001b[39;00m device \u001b[38;5;129;01min\u001b[39;00m platform\u001b[38;5;241m.\u001b[39mget_devices():\n\u001b[1;32m    103\u001b[0m         \u001b[38;5;28;01mif\u001b[39;00m name \u001b[38;5;129;01mand\u001b[39;00m name\u001b[38;5;241m.\u001b[39mlower() \u001b[38;5;129;01min\u001b[39;00m device\u001b[38;5;241m.\u001b[39mname\u001b[38;5;241m.\u001b[39mlower():\n",
      "\u001b[0;31mLogicError\u001b[0m: clGetPlatformIDs failed: PLATFORM_NOT_FOUND_KHR"
     ]
    }
   ],
   "source": [
    "image = imread('../../data/DeconvolutionSampleVerticalGrid1AU-crop.tif')\n",
    "imshow(image)"
   ]
  },
  {
   "cell_type": "code",
   "execution_count": null,
   "id": "fc5768b9-896f-49d8-951e-e946976519e6",
   "metadata": {},
   "outputs": [],
   "source": [
    "psf = imread()"
   ]
  },
  {
   "cell_type": "code",
   "execution_count": null,
   "id": "c05090e0-9b25-4511-a4e5-a528705dfd95",
   "metadata": {},
   "outputs": [],
   "source": [
    "#def RedLionfish_widget(\n",
    "#    data: ImageData, #Input is data that can be selected\n",
    "#    psfdata:ImageData,\n",
    "#    iterations=10, #User chooses number of RL iterations\n",
    "#    useGPU = True \n",
    "#    ) -> LayerDataTuple: #Result is a LayerDataTuple, like (data, {dict_properties})\n",
    "\n",
    "rl.doRLDeconvolutionFromNpArrays(data, psfdata, niter= iterations, method = 'gpu' ,resAsUint8=True )"
   ]
  }
 ],
 "metadata": {
  "kernelspec": {
   "display_name": "Python 3 (ipykernel)",
   "language": "python",
   "name": "python3"
  },
  "language_info": {
   "codemirror_mode": {
    "name": "ipython",
    "version": 3
   },
   "file_extension": ".py",
   "mimetype": "text/x-python",
   "name": "python",
   "nbconvert_exporter": "python",
   "pygments_lexer": "ipython3",
   "version": "3.9.10"
  }
 },
 "nbformat": 4,
 "nbformat_minor": 5
}
