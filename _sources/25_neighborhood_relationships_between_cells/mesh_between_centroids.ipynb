{
 "cells": [
  {
   "cell_type": "markdown",
   "metadata": {},
   "source": [
    "# Mesh between centroids"
   ]
  },
  {
   "cell_type": "code",
   "execution_count": 1,
   "metadata": {},
   "outputs": [],
   "source": [
    "import pyclesperanto_prototype as cle\n",
    "import numpy as np\n",
    "from skimage.io import imshow"
   ]
  },
  {
   "cell_type": "markdown",
   "metadata": {},
   "source": [
    "Let's define a label image, just for testing"
   ]
  },
  {
   "cell_type": "code",
   "execution_count": 2,
   "metadata": {},
   "outputs": [
    {
     "data": {
      "image/png": "[encoded data removed]",
      "text/plain": [
       "<Figure size 432x288 with 1 Axes>"
      ]
     },
     "metadata": {
      "needs_background": "light"
     },
     "output_type": "display_data"
    }
   ],
   "source": [
    "label_map = cle.push(np.asarray([\n",
    "    [1, 1, 1, 1, 0, 2, 2, 2, 2],\n",
    "    [1, 1, 1, 1, 0, 2, 2, 2, 2],\n",
    "    [1, 1, 1, 1, 0, 2, 2, 2, 2],\n",
    "    [1, 1, 1, 1, 0, 2, 2, 2, 2],\n",
    "    [0, 0, 0, 0, 0, 0, 0, 0, 0],\n",
    "    [3, 3, 3, 3, 0, 4, 4, 4, 4],\n",
    "    [3, 3, 3, 3, 0, 4, 4, 4, 4],\n",
    "    [3, 3, 3, 3, 0, 4, 4, 4, 4],\n",
    "    [3, 3, 3, 3, 0, 4, 4, 4, 4]\n",
    "]))\n",
    "\n",
    "cle.imshow(label_map, labels=True)"
   ]
  },
  {
   "cell_type": "markdown",
   "metadata": {},
   "source": [
    "# Determine centroid positions of the labels"
   ]
  },
  {
   "cell_type": "code",
   "execution_count": 3,
   "metadata": {},
   "outputs": [
    {
     "name": "stdout",
     "output_type": "stream",
     "text": [
      "[[1.5 6.5 1.5 6.5]\n",
      " [1.5 1.5 6.5 6.5]]\n"
     ]
    }
   ],
   "source": [
    "centroid_pointlist = cle.label_centroids_to_pointlist(label_map)\n",
    "print(centroid_pointlist)"
   ]
  },
  {
   "cell_type": "markdown",
   "metadata": {},
   "source": [
    "# Determine distance matrix"
   ]
  },
  {
   "cell_type": "code",
   "execution_count": 4,
   "metadata": {},
   "outputs": [
    {
     "name": "stdout",
     "output_type": "stream",
     "text": [
      "[[0.        0.        0.        0.        0.       ]\n",
      " [0.        0.        4.9999995 4.9999995 7.0710673]\n",
      " [0.        4.9999995 0.        7.0710673 4.9999995]\n",
      " [0.        4.9999995 7.0710673 0.        4.9999995]\n",
      " [0.        7.0710673 4.9999995 4.9999995 0.       ]]\n"
     ]
    }
   ],
   "source": [
    "distance_matrix = cle.generate_distance_matrix(centroid_pointlist, centroid_pointlist)\n",
    "print(distance_matrix)"
   ]
  },
  {
   "cell_type": "markdown",
   "metadata": {},
   "source": [
    "# Draw mesh between centroids with distance <= 5"
   ]
  },
  {
   "cell_type": "code",
   "execution_count": 5,
   "metadata": {},
   "outputs": [
    {
     "name": "stdout",
     "output_type": "stream",
     "text": [
      "[[1. 1. 1. 1. 1.]\n",
      " [1. 1. 1. 1. 0.]\n",
      " [1. 1. 1. 0. 1.]\n",
      " [1. 1. 0. 1. 1.]\n",
      " [1. 0. 1. 1. 1.]]\n"
     ]
    }
   ],
   "source": [
    "connection_matrix = cle.smaller_or_equal_constant(distance_matrix, constant=5)\n",
    "print(connection_matrix)"
   ]
  },
  {
   "cell_type": "code",
   "execution_count": 6,
   "metadata": {},
   "outputs": [
    {
     "data": {
      "image/png": "[encoded data removed]",
      "text/plain": [
       "<Figure size 432x288 with 1 Axes>"
      ]
     },
     "metadata": {
      "needs_background": "light"
     },
     "output_type": "display_data"
    }
   ],
   "source": [
    "mesh = cle.create_like(label_map)\n",
    "cle.touch_matrix_to_mesh(centroid_pointlist, connection_matrix, mesh)\n",
    "cle.imshow(mesh)"
   ]
  },
  {
   "cell_type": "markdown",
   "metadata": {},
   "source": [
    "# Draw mesh between centroids with distance >= 5"
   ]
  },
  {
   "cell_type": "code",
   "execution_count": 7,
   "metadata": {},
   "outputs": [
    {
     "name": "stdout",
     "output_type": "stream",
     "text": [
      "[[0. 0. 0. 0. 0.]\n",
      " [0. 0. 0. 0. 1.]\n",
      " [0. 0. 0. 1. 0.]\n",
      " [0. 0. 1. 0. 0.]\n",
      " [0. 1. 0. 0. 0.]]\n"
     ]
    }
   ],
   "source": [
    "connection_matrix = cle.greater_or_equal_constant(distance_matrix, constant=5)\n",
    "print(connection_matrix)"
   ]
  },
  {
   "cell_type": "code",
   "execution_count": 8,
   "metadata": {},
   "outputs": [
    {
     "data": {
      "image/png": "[encoded data removed]",
      "text/plain": [
       "<Figure size 432x288 with 1 Axes>"
      ]
     },
     "metadata": {
      "needs_background": "light"
     },
     "output_type": "display_data"
    }
   ],
   "source": [
    "mesh = cle.create_like(label_map)\n",
    "cle.touch_matrix_to_mesh(centroid_pointlist, connection_matrix, mesh)\n",
    "cle.imshow(mesh)"
   ]
  },
  {
   "cell_type": "code",
   "execution_count": null,
   "metadata": {},
   "outputs": [],
   "source": []
  },
  {
   "cell_type": "code",
   "execution_count": null,
   "metadata": {},
   "outputs": [],
   "source": []
  }
 ],
 "metadata": {
  "kernelspec": {
   "display_name": "Python 3 (ipykernel)",
   "language": "python",
   "name": "python3"
  },
  "language_info": {
   "codemirror_mode": {
    "name": "ipython",
    "version": 3
   },
   "file_extension": ".py",
   "mimetype": "text/x-python",
   "name": "python",
   "nbconvert_exporter": "python",
   "pygments_lexer": "ipython3",
   "version": "3.9.9"
  }
 },
 "nbformat": 4,
 "nbformat_minor": 4
}
